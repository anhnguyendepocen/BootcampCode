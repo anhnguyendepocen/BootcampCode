{
 "cells": [
  {
   "cell_type": "markdown",
   "metadata": {},
   "source": [
    "# Procedural implementation of univariate Bayesian parameter estimation"
   ]
  },
  {
   "cell_type": "code",
   "execution_count": null,
   "metadata": {
    "collapsed": true
   },
   "outputs": [],
   "source": [
    "%matplotlib notebook\n",
    "\n",
    "import itertools\n",
    "\n",
    "import numpy as np\n",
    "from numpy.testing import assert_approx_equal\n",
    "import scipy\n",
    "import matplotlib as mpl\n",
    "from matplotlib.pyplot import *\n",
    "from scipy import *\n",
    "from scipy import stats, special, integrate\n",
    "\n",
    "try:\n",
    "    import myplot\n",
    "    from myplot import close_all, csavefig\n",
    "    #myplot.tex_on()\n",
    "    csavefig.save = False\n",
    "except ImportError:\n",
    "    pass"
   ]
  },
  {
   "cell_type": "markdown",
   "metadata": {},
   "source": [
    "---\n",
    "## Infer a Poisson rate"
   ]
  },
  {
   "cell_type": "code",
   "execution_count": null,
   "metadata": {
    "collapsed": false
   },
   "outputs": [],
   "source": [
    "nlabel = arange(0,25,4)\n",
    "nlabel"
   ]
  },
  {
   "cell_type": "code",
   "execution_count": null,
   "metadata": {
    "collapsed": false
   },
   "outputs": [],
   "source": [
    "# Show some Poisson PMFs for various rates, T = 2 sec.\n",
    "T = 2.\n",
    "\n",
    "rvals = linspace(1., 10., 25)\n",
    "rlabel = arange(0,25,4)  # index of r values to label for legend\n",
    "nvals = arange(0,31)\n",
    "\n",
    "# Cycle through colors across the rainbow:\n",
    "nc = len(rvals) # give each r value a color\n",
    "cm = get_cmap('gist_rainbow')\n",
    "cgen = (cm(1.*i/nc) for i in range(nc))\n",
    "\n",
    "figure()\n",
    "for i, (r, c) in enumerate(zip(rvals, cgen)):\n",
    "    samp_distn = stats.poisson(r*T)  # expected # of counts = r*T\n",
    "    pmf = samp_distn.pmf(nvals)\n",
    "    if i in nlabel:\n",
    "        plot(nvals, pmf, 'o-', mew=0, c=c, alpha=.7, label='{:.1f}'.format(r))\n",
    "    else:\n",
    "        plot(nvals, pmf, 'o-', mew=0, c=c, alpha=.7)\n",
    "\n",
    "xlabel('$n$')\n",
    "ylabel('$p(n|r)$')\n",
    "legend()\n",
    "title('Poisson PMFs for various $r$')"
   ]
  },
  {
   "cell_type": "markdown",
   "metadata": {},
   "source": [
    "### 1st case:  const prior, $(n,T) = (16, 2)$"
   ]
  },
  {
   "cell_type": "code",
   "execution_count": null,
   "metadata": {
    "collapsed": false
   },
   "outputs": [],
   "source": [
    "# Parameters specifying the 1st case with a flat prior:\n",
    "# Make sure prior is proper by bounding it; this choice should not\n",
    "# depend on the data---it's a *prior*!\n",
    "prior_l, prior_u = 0., 1e5\n",
    "n, T = 16, 2.  # data\n",
    "\n",
    "# Define the grid of rates for computing & plotting.\n",
    "# A good range will depend on the data; make an educated guess:\n",
    "r_l, r_u = 0., 20.  #  n/T plus few*sqrt(n)/T\n",
    "rvals = linspace(r_l, r_u, 200)\n",
    "rtvals = rvals*T\n",
    "dr = rvals[1] - rvals[0]\n",
    "\n",
    "# Bayes's theorem:\n",
    "prior_pdf = ones_like(rvals)/(prior_u - prior_l)\n",
    "# Poisson dist'n likelihood, dropping n! factor:\n",
    "like = (rtvals)**n * exp(-rtvals)\n",
    "numer = prior_pdf*like\n",
    "denom = np.trapz(numer, dx=dr)\n",
    "post_pdf = numer/denom\n",
    "\n",
    "# Plot the posterior\n",
    "figure()\n",
    "plot(rvals, post_pdf, 'b-', lw=3, alpha=0.5)\n",
    "xlabel(r'Rate (s$^{-1}$)')\n",
    "ylabel('PDF (s)')"
   ]
  },
  {
   "cell_type": "markdown",
   "metadata": {},
   "source": [
    "**Test!** The following function is an assertion; in a .py file, it could be used with `nosetests`."
   ]
  },
  {
   "cell_type": "code",
   "execution_count": null,
   "metadata": {
    "collapsed": true
   },
   "outputs": [],
   "source": [
    "def test_norm(ppdf, delta):\n",
    "    \"\"\"\n",
    "    Test that the posterior is normalized.\n",
    "    \"\"\"\n",
    "    assert_approx_equal(np.trapz(ppdf, dx=delta), 1., 2)  # match 1 to 2 digits"
   ]
  },
  {
   "cell_type": "code",
   "execution_count": null,
   "metadata": {
    "collapsed": false
   },
   "outputs": [],
   "source": [
    "test_norm(post_pdf, dr)"
   ]
  },
  {
   "cell_type": "markdown",
   "metadata": {},
   "source": [
    "### 2nd case:  exp'l prior with scale (prior mean) 10., $(n,T) = (16, 2)$"
   ]
  },
  {
   "cell_type": "code",
   "execution_count": null,
   "metadata": {
    "collapsed": false,
    "scrolled": true
   },
   "outputs": [],
   "source": [
    "# Prior:\n",
    "scale = 10.\n",
    "prior = stats.gamma(1, scale=scale)  # a=1 is exp'l dist'n\n",
    "\n",
    "# Easiest to just copy/paste things that are different this time:\n",
    "\n",
    "# Bayes's theorem:\n",
    "numer = prior.pdf(rvals)*like\n",
    "denom = np.trapz(numer, dx=dr)\n",
    "post_pdf2 = numer/denom\n",
    "\n",
    "# Plot both posteriors.\n",
    "plot(rvals, post_pdf2, 'b--', lw=3, alpha=.5)\n",
    "\n",
    "# Add these if using `%matplotlib notebook`:\n",
    "# plot(rvals, post_pdf, 'b-', lw=3, alpha=0.5)\n",
    "# xlabel(r'Rate (s$^{-1}$)')\n",
    "# ylabel('PDF (s)')"
   ]
  },
  {
   "cell_type": "code",
   "execution_count": null,
   "metadata": {
    "collapsed": true
   },
   "outputs": [],
   "source": [
    "test_norm(post_pdf2, dr)"
   ]
  },
  {
   "cell_type": "markdown",
   "metadata": {},
   "source": [
    "### 3rd case:  flat prior with $(n,T) = (80, 10)$"
   ]
  },
  {
   "cell_type": "code",
   "execution_count": null,
   "metadata": {
    "collapsed": false
   },
   "outputs": [],
   "source": [
    "n, T = 80, 10.  # data\n",
    "\n",
    "# rtvals changes because T changed:\n",
    "rtvals = rvals*T\n",
    "\n",
    "# Bayes's theorem:\n",
    "prior_pdf = ones_like(rvals)/(prior_u - prior_l)\n",
    "# Poisson dist'n likelihood, dropping n! factor:\n",
    "like = (rtvals)**n * exp(-rtvals)\n",
    "numer = prior_pdf*like\n",
    "denom = np.trapz(numer, dx=dr)\n",
    "post_pdf3 = numer/denom\n",
    "\n",
    "plot(rvals, post_pdf3, 'g-', lw=3, alpha=0.5)"
   ]
  },
  {
   "cell_type": "code",
   "execution_count": null,
   "metadata": {
    "collapsed": true
   },
   "outputs": [],
   "source": [
    "test_norm(post_pdf3, dr)"
   ]
  },
  {
   "cell_type": "markdown",
   "metadata": {},
   "source": [
    "### 4th case:  exp'l prior with scale (prior mean) 10., $(n,T) = (80, 10)$"
   ]
  },
  {
   "cell_type": "code",
   "execution_count": null,
   "metadata": {
    "collapsed": false
   },
   "outputs": [],
   "source": [
    "numer = prior.pdf(rvals)*like\n",
    "denom = np.trapz(numer, dx=dr)\n",
    "post_pdf4 = numer/denom\n",
    "\n",
    "# Plot the posterior\n",
    "plot(rvals, post_pdf4, 'g--', lw=3)"
   ]
  },
  {
   "cell_type": "code",
   "execution_count": null,
   "metadata": {
    "collapsed": true
   },
   "outputs": [],
   "source": [
    "test_norm(post_pdf4, dr)"
   ]
  },
  {
   "cell_type": "markdown",
   "metadata": {},
   "source": [
    "---\n",
    "## Infer a Normal location"
   ]
  },
  {
   "cell_type": "code",
   "execution_count": null,
   "metadata": {
    "collapsed": false
   },
   "outputs": [],
   "source": [
    "def norm_like(data, muvals, sig):\n",
    "    \"\"\"\n",
    "    Evaluate the Normal log-likelihood function for `muvals` (scalar or vector) given\n",
    "    data values in `data`.  The standard deviation is assumed known, given by `sig`.\n",
    "    I.e., this ignores `sig`-dependent factors that don't depend on mu.\n",
    "    \"\"\"\n",
    "    muvals = asarray(muvals)\n",
    "    sig2 = sig*sig\n",
    "    q = array([sum((data - mu)**2)/sig2 for mu in muvals])\n",
    "    return exp(-0.5*q)"
   ]
  },
  {
   "cell_type": "code",
   "execution_count": null,
   "metadata": {
    "collapsed": true
   },
   "outputs": [],
   "source": [
    "# Simulate some data:\n",
    "sig = 3.\n",
    "mu_t = 5.  # \"true\" value of mu\n",
    "samp_distn = stats.norm(mu_t, sig)\n",
    "n = 20\n",
    "data = samp_distn.rvs(n)"
   ]
  },
  {
   "cell_type": "code",
   "execution_count": null,
   "metadata": {
    "collapsed": false
   },
   "outputs": [],
   "source": [
    "print data\n",
    "mean(data)"
   ]
  },
  {
   "cell_type": "code",
   "execution_count": null,
   "metadata": {
    "collapsed": false
   },
   "outputs": [],
   "source": [
    "# Prior range for flat prior:\n",
    "prior_l, prior_u = -100., 100.\n",
    "\n",
    "# Plot range; this will depend on the data; educated guess:\n",
    "dbar, dsig = mean(data), std(data)\n",
    "mu_l = dbar - 5.*dsig/sqrt(n)\n",
    "mu_u = dbar + 5.*dsig/sqrt(n)\n",
    "\n",
    "# Define the grid of mus for computing & plotting.\n",
    "muvals = linspace(mu_l, mu_u, 200)\n",
    "dmu = muvals[1] - muvals[0]\n",
    "\n",
    "# Bayes's theorem:\n",
    "prior_pdf = ones_like(muvals)/(prior_u - prior_l)\n",
    "like = norm_like(data, muvals, sig)\n",
    "numer = prior_pdf*like\n",
    "denom = np.trapz(numer, dx=dmu)\n",
    "post_pdf = numer/denom\n",
    "\n",
    "# Plot the posterior\n",
    "figure()\n",
    "axvline(mu_t, ls='--')\n",
    "plot(muvals, post_pdf, 'b-', lw=2, alpha=0.8, label='Numerical')\n",
    "xlabel('$\\mu$')\n",
    "ylabel('PDF')\n",
    "\n",
    "# Compare with analytical result for infinite range\n",
    "post_distn = stats.norm(dbar, sig/sqrt(n))\n",
    "plot(muvals, post_distn.pdf(muvals), 'r--', lw=3, alpha=0.5, label='Analytical')\n",
    "legend()"
   ]
  },
  {
   "cell_type": "code",
   "execution_count": null,
   "metadata": {
    "collapsed": true
   },
   "outputs": [],
   "source": [
    "test_norm(post_pdf, dmu)"
   ]
  },
  {
   "cell_type": "markdown",
   "metadata": {},
   "source": [
    "---\n",
    "## Infer a Cauchy location"
   ]
  },
  {
   "cell_type": "code",
   "execution_count": null,
   "metadata": {
    "collapsed": true
   },
   "outputs": [],
   "source": [
    "def cauchy_like(data, x0vals, scale):\n",
    "    \"\"\"\n",
    "    Evaluate the Cauchy likelihood function for x0vals (scalar or vector),\n",
    "    given data values and the Cauchy scale parameter.\n",
    "    \"\"\"\n",
    "    x0vals = asarray(x0vals)  # gives scalars .shape\n",
    "    scale2 = scale**2\n",
    "    if len(x0vals.shape) == 0:  # scalar argument -> scalar result\n",
    "        return prod(1./(1. + (x0vals - data)**2/scale2))\n",
    "    # Handle vector of x0vals here.\n",
    "    lvals = empty_like(x0vals)\n",
    "    for i in range(len(x0vals)):\n",
    "        lvals[i] = prod(1./(1. + (x0vals[i] - data)**2/scale2))\n",
    "    return lvals"
   ]
  },
  {
   "cell_type": "code",
   "execution_count": null,
   "metadata": {
    "collapsed": true
   },
   "outputs": [],
   "source": [
    "# Simulate several datasets\n",
    "scale = 3.\n",
    "x0 = 5.  # \"true\" value of x0\n",
    "n = 5\n",
    "datasets = []\n",
    "samp_distn = stats.cauchy(x0, scale)\n",
    "for i in range(10):\n",
    "    datasets.append(samp_distn.rvs(n))\n",
    "\n",
    "# Typical dataset (~median span), treated as both Cauchy and normal:\n",
    "spans = array( [data.max()-data.min() for data in datasets] )\n",
    "i = argsort(spans)[len(spans)//2]  # locate ~median\n",
    "data = datasets[i]"
   ]
  },
  {
   "cell_type": "code",
   "execution_count": null,
   "metadata": {
    "collapsed": false
   },
   "outputs": [],
   "source": [
    "# Prior range for flat prior:\n",
    "prior_l, prior_u = -100., 100.\n",
    "\n",
    "# Plot range; this will depend on the data; educated guess:\n",
    "mid, span = median(data), data.max() - data.min()\n",
    "x0_l = mid - 2.*span/sqrt(n)\n",
    "x0_u = mid + 2.*span/sqrt(n)\n",
    "\n",
    "# Define the grid of x0s for computing & plotting.\n",
    "x0vals = linspace(x0_l, x0_u, 200)\n",
    "dx = x0vals[1] - x0vals[0]\n",
    "\n",
    "# Bayes's theorem:\n",
    "prior_pdf = ones_like(x0vals)/(prior_u - prior_l)\n",
    "like = cauchy_like(data, x0vals, scale)\n",
    "numer = prior_pdf*like\n",
    "denom = np.trapz(numer, dx=dx)\n",
    "post_pdf = numer/denom\n",
    "test_norm(post_pdf, dx)\n",
    "\n",
    "# Plot the posterior\n",
    "figure()\n",
    "plot(x0vals, post_pdf, 'b-', lw=3, alpha=0.5)\n",
    "xlabel('$x_0$')\n",
    "ylabel('PDF')\n",
    "\n",
    "# Pretend the data were normal\n",
    "if True:\n",
    "    prior_pdf = ones_like(muvals)/(prior_u - prior_l)\n",
    "    like = norm_like(data, muvals, sig)\n",
    "    numer = prior_pdf*like\n",
    "    denom = np.trapz(numer, dx=dmu)\n",
    "    post_pdf2 = numer/denom\n",
    "    plot(x0vals, post_pdf2, 'g--', lw=3, alpha=0.5)"
   ]
  },
  {
   "cell_type": "code",
   "execution_count": null,
   "metadata": {
    "collapsed": false
   },
   "outputs": [],
   "source": [
    "# Plot several posteriors\n",
    "figure()\n",
    "for data in datasets:\n",
    "    like = cauchy_like(data, x0vals, scale)\n",
    "    numer = prior_pdf*like\n",
    "    denom = np.trapz(numer, dx=dx)\n",
    "    post_pdf = numer/denom\n",
    "    test_norm(post_pdf, dx)\n",
    "\n",
    "    plot(x0vals, post_pdf, ls='-', lw=2, alpha=0.7)\n",
    "    xlabel('$x_0$')\n",
    "    ylabel('PDF')"
   ]
  },
  {
   "cell_type": "code",
   "execution_count": null,
   "metadata": {
    "collapsed": true
   },
   "outputs": [],
   "source": []
  }
 ],
 "metadata": {
  "kernelspec": {
   "display_name": "Python 2",
   "language": "python",
   "name": "python2"
  },
  "language_info": {
   "codemirror_mode": {
    "name": "ipython",
    "version": 2
   },
   "file_extension": ".py",
   "mimetype": "text/x-python",
   "name": "python",
   "nbconvert_exporter": "python",
   "pygments_lexer": "ipython2",
   "version": "2.7.11"
  }
 },
 "nbformat": 4,
 "nbformat_minor": 0
}
